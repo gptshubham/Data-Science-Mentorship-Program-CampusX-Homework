{
  "cells": [
    {
      "cell_type": "markdown",
      "metadata": {
        "id": "w6RlOAXV2PWh"
      },
      "source": [
        "### `Problem 1`: Write a program that will give you in hand monthly salary after deduction on CTC - HRA(10%), DA(5%), PF(3%) and taxes deduction as below:\n",
        "\n",
        "> Salary(Lakhs) : Tax(%)\n",
        "\n",
        "*   Below 5 : 0%\n",
        "*   5-10 : 10%\n",
        "*   10-20 : 20%\n",
        "*   aboove 20 : 30%"
      ]
    },
    {
      "cell_type": "code",
      "execution_count": null,
      "metadata": {
        "colab": {
          "base_uri": "https://localhost:8080/"
        },
        "id": "7tMHvKYO2etI",
        "outputId": "d1acde71-adfb-4473-9dab-4a996af017b5"
      },
      "outputs": [
        {
          "name": "stdout",
          "output_type": "stream",
          "text": [
            "Enter The Salary :2000000\n",
            "In Hand Salary = 1390000.0\n"
          ]
        }
      ],
      "source": [
        "# Write code here\n",
        "# salary input\n",
        "salary = int(input(\"Enter The Salary :\"))\n",
        "# hra,da,pf\n",
        "hra = salary * 10/100\n",
        "da = salary * 5/100\n",
        "pf = salary * 3/100\n",
        "# tax\n",
        "if salary < 500000:\n",
        "  tax = 0\n",
        "elif salary >= 500000 and salary < 1000000:\n",
        "  tax = (salary - 500000) * 10/100\n",
        "elif salary >= 1000000 and salary < 2000000:\n",
        "  tax = (500000 * 10/100) + ((salary - 1000000) * 20/100)\n",
        "else:\n",
        "  tax = (500000 * 10/100) + (1000000 * 20/100) + ((salary - 2000000) * 30/100)\n",
        "# in hand salary\n",
        "in_hand_salary = salary - hra - da - pf - tax\n",
        "# printing output\n",
        "print(\"In Hand Salary =\",in_hand_salary)"
      ]
    },
    {
      "cell_type": "markdown",
      "metadata": {
        "id": "tYzCGqwl2hfN"
      },
      "source": [
        "### `Problem 2`: Write a program that take a user input of three angles and will find out whether it can form a triangle or not."
      ]
    },
    {
      "cell_type": "code",
      "execution_count": null,
      "metadata": {
        "colab": {
          "base_uri": "https://localhost:8080/"
        },
        "id": "FYEqln-I2kxV",
        "outputId": "508d51d8-a79f-445c-eb82-28f536c98ff8"
      },
      "outputs": [
        {
          "name": "stdout",
          "output_type": "stream",
          "text": [
            "Enter 1st Angle90\n",
            "Enter 2nd Angle90\n",
            "Enter 3rd Angle0\n",
            "It's not a Triangle!\n"
          ]
        }
      ],
      "source": [
        "# Write code here\n",
        "# angle input\n",
        "angle1 = int(input(\"Enter 1st Angle :\"))\n",
        "angle2 = int(input(\"Enter 2nd Angle :\"))\n",
        "angle3 = int(input(\"Enter 3rd Angle :\"))\n",
        "# conditions\n",
        "if angle1 > 0 and angle2 > 0 and angle3 > 0:\n",
        "  if angle1 + angle2 + angle3 == 180:\n",
        "    print(\"It's a Triangle!\")\n",
        "  else:\n",
        "    print(\"It's not a Triangle!\")\n",
        "else:\n",
        "  print(\"It's not a Triangle!\")"
      ]
    },
    {
      "cell_type": "markdown",
      "metadata": {
        "id": "5vEpPh8C2pE4"
      },
      "source": [
        "### `Problem 3`: Write a program that will take user input of cost price and selling price and determines whether its a loss or a profit."
      ]
    },
    {
      "cell_type": "code",
      "execution_count": null,
      "metadata": {
        "colab": {
          "base_uri": "https://localhost:8080/"
        },
        "id": "jDwBXlkO2sfl",
        "outputId": "4bb14522-2614-4b20-ddee-d0fa7167fbe0"
      },
      "outputs": [
        {
          "name": "stdout",
          "output_type": "stream",
          "text": [
            "Enter cost price :100\n",
            "Enter selling price :100\n",
            "No Loss No Profit!\n"
          ]
        }
      ],
      "source": [
        "# Write code here\n",
        "# taking user input\n",
        "cost_price = int(input(\"Enter cost price :\"))\n",
        "selling_price = int(input(\"Enter selling price :\"))\n",
        "# conditions\n",
        "if cost_price < selling_price:\n",
        "  print(\"Profit =\",selling_price - cost_price)\n",
        "elif selling_price < cost_price:\n",
        "  print(\"Loss =\",cost_price - selling_price)\n",
        "else:\n",
        "  print(\"No Loss No Profit!\")"
      ]
    },
    {
      "cell_type": "markdown",
      "metadata": {
        "id": "J_FG_cJW2ugT"
      },
      "source": [
        "### `Problem 4`: Write a menu-driven program -\n",
        "1. cm to ft\n",
        "2. km to miles\n",
        "3. USD to INR\n",
        "4. exit"
      ]
    },
    {
      "cell_type": "code",
      "execution_count": null,
      "metadata": {
        "colab": {
          "base_uri": "https://localhost:8080/"
        },
        "id": "yBHhaCGQ2zpD",
        "outputId": "030faf4e-a572-438c-ff47-72f09f92233d"
      },
      "outputs": [
        {
          "name": "stdout",
          "output_type": "stream",
          "text": [
            "Enter Value :100\n",
            "Select an operation from the following:\n",
            "               1. cm to ft\n",
            "               2. km to miles\n",
            "               3. USD to INR\n",
            "               4. exit :4\n",
            "Exit!\n"
          ]
        }
      ],
      "source": [
        "# Write code here\n",
        "# taking input from user\n",
        "fnum = int(input(\"Enter Value :\"))\n",
        "op = input(\"\"\"Select an operation from the following:\n",
        "               1. cm to ft\n",
        "               2. km to miles\n",
        "               3. USD to INR\n",
        "               4. exit :\"\"\")\n",
        "if op == \"1\":\n",
        "  print((round((fnum * 0.0328084),2)),\"ft\")\n",
        "elif op == \"2\":\n",
        "  print((round((fnum * 0.621371),2)),\"miles\")\n",
        "elif op == \"3\":\n",
        "  print((fnum * 83),\"INR\")\n",
        "else:\n",
        "  print(\"Exit!\")"
      ]
    },
    {
      "cell_type": "markdown",
      "metadata": {
        "id": "LJJ30_Yw27ZU"
      },
      "source": [
        "### `Problem 5` - Exercise 12: Display Fibonacci series up to 10 terms.\n",
        "\n",
        "*Note: The Fibonacci Sequence is a series of numbers. The next number is found by adding up the two numbers before it. The first two numbers are 0 and 1. For example, 0, 1, 1, 2, 3, 5, 8, 13, 21. The next number in this series above is 13+21 = 34*"
      ]
    },
    {
      "cell_type": "code",
      "execution_count": 2,
      "metadata": {
        "id": "ae_1rpe52-5R"
      },
      "outputs": [
        {
          "name": "stdout",
          "output_type": "stream",
          "text": [
            "0,1,1,2,3,5,8,13,21,34\n"
          ]
        }
      ],
      "source": [
        "# Display fibonacci Sequence up to n terms.\n",
        "# taking input from user - no. of terms.\n",
        "n = int(input(\"Enter No. of Terms: \"))\n",
        "# initializing variable 'a','a1' and 'an' \n",
        "a = 0\n",
        "a1 = 1\n",
        "an = 0\n",
        "# loop to print fibonacci series\n",
        "for i in range(1,n):\n",
        "    an = a + a1\n",
        "    print(a,end=',')\n",
        "    a = a1\n",
        "    a1 = an\n",
        "print(a)"
      ]
    },
    {
      "cell_type": "code",
      "execution_count": 3,
      "metadata": {},
      "outputs": [
        {
          "name": "stdout",
          "output_type": "stream",
          "text": [
            "0\n",
            "1\n",
            "1\n",
            "2\n",
            "3\n",
            "5\n",
            "8\n",
            "13\n",
            "21\n",
            "34\n"
          ]
        }
      ],
      "source": [
        "# Alternatively\n",
        "# taking input from user\n",
        "n = int(input(\"Enter the No. of Terms: \"))\n",
        "# initializing variables\n",
        "num1,num2=0,1\n",
        "for i in range(n):\n",
        "    print(num1)\n",
        "    next = num1 + num2\n",
        "    num1 = num2\n",
        "    num2 = next\n",
        "\n"
      ]
    },
    {
      "cell_type": "markdown",
      "metadata": {
        "id": "pk_I_S4m3PT5"
      },
      "source": [
        "### `Problem 6` - Find the factorial of a given number.\n",
        "\n",
        "Write a program to use the loop to find the factorial of a given number.\n",
        "\n",
        "The factorial (symbol: `!`) means to multiply all whole numbers from the chosen number down to 1.\n",
        "\n",
        "For example: calculate the factorial of 5\n",
        "\n",
        "```bash\n",
        "5! = 5 × 4 × 3 × 2 × 1 = 120\n",
        "```\n",
        "\n",
        "Output:\n",
        "\n",
        "```bash\n",
        "120\n",
        "```"
      ]
    },
    {
      "cell_type": "code",
      "execution_count": 5,
      "metadata": {
        "colab": {
          "base_uri": "https://localhost:8080/"
        },
        "id": "lzXxHegx3Rkc",
        "outputId": "5efd59ec-a014-4616-c3d9-fda05d813b46"
      },
      "outputs": [
        {
          "name": "stdout",
          "output_type": "stream",
          "text": [
            "120\n"
          ]
        }
      ],
      "source": [
        "# Calculate factorial of a given number.\n",
        "# taking input from user\n",
        "number = int(input(\"Enter the Number :\"))\n",
        "# initializing factorial variable\n",
        "factorial = 1\n",
        "# loop to calculate factorial\n",
        "for i in range(1,number+1):\n",
        "  factorial *= i\n",
        "# printing output\n",
        "print(factorial)"
      ]
    },
    {
      "cell_type": "markdown",
      "metadata": {
        "id": "-17IOi-g3UpU"
      },
      "source": [
        "### `Problem 7` - Reverse a given integer number.\n",
        "\n",
        "Example:\n",
        "\n",
        "`Input:`\n",
        "\n",
        "```bash\n",
        "76542\n",
        "```\n",
        "\n",
        "`Output:`\n",
        "\n",
        "```bash\n",
        "24567\n",
        "```"
      ]
    },
    {
      "cell_type": "code",
      "execution_count": 7,
      "metadata": {
        "colab": {
          "base_uri": "https://localhost:8080/"
        },
        "id": "wJwLpKCr3aVA",
        "outputId": "f9cbba05-09a1-4efa-8dae-5d574bcb4ac1"
      },
      "outputs": [
        {
          "name": "stdout",
          "output_type": "stream",
          "text": [
            "654321\n"
          ]
        }
      ],
      "source": [
        "# reverse the given integer number\n",
        "# taking input from user\n",
        "number = int(input(\"Enter the Number :\"))\n",
        "# initializing temp variable as an empty string\n",
        "temp = ''\n",
        "# loop to reverse the number\n",
        "while number>0:\n",
        "  temp = temp + str(number % 10)\n",
        "  number //= 10\n",
        "# printing output after converting it back to integer\n",
        "print(int(temp))"
      ]
    },
    {
      "cell_type": "markdown",
      "metadata": {
        "id": "-t8PJQaY3sHf"
      },
      "source": [
        "### `Problem 8`: Take a user input as integer N. Find out the sum from 1 to N. If any number if divisible by 5, then skip that number. And if the sum is greater than 300, don't need to calculate the sum further more. Print the final result. And don't use for loop to solve this problem.\n",
        "\n",
        "**Example 1:**\n",
        "\n",
        "`Input:`\n",
        "\n",
        "```bash\n",
        "30\n",
        "```\n",
        "\n",
        "`Output:`\n",
        "\n",
        "```bash\n",
        "276\n",
        "```"
      ]
    },
    {
      "cell_type": "code",
      "execution_count": null,
      "metadata": {
        "colab": {
          "base_uri": "https://localhost:8080/"
        },
        "id": "GZB6mGMP3ujT",
        "outputId": "1fccea4d-8ba7-4844-c4e8-48b71044fc62"
      },
      "outputs": [
        {
          "name": "stdout",
          "output_type": "stream",
          "text": [
            "Enter the Number :30\n",
            "276\n"
          ]
        }
      ],
      "source": [
        "# Write code here\n",
        "#\n",
        "number = int(input(\"Enter the Number :\"))\n",
        "#\n",
        "i = 1\n",
        "sum = 0\n",
        "#\n",
        "while i <= number and sum <= 300:\n",
        "  if i%5 != 0:\n",
        "    sum += i\n",
        "  if sum > 300:\n",
        "    break\n",
        "  i += 1\n",
        "#\n",
        "print(sum-i)"
      ]
    },
    {
      "cell_type": "markdown",
      "metadata": {
        "id": "Q7ggImeA3xm4"
      },
      "source": [
        "### `Problem 9`: Write a program that keeps on accepting a number from the user until the user enters Zero. Display the sum and average of all the numbers."
      ]
    },
    {
      "cell_type": "code",
      "execution_count": null,
      "metadata": {
        "colab": {
          "base_uri": "https://localhost:8080/"
        },
        "id": "t_YDSZDe4Kdo",
        "outputId": "1875bbe0-e7fc-4abc-8f30-dc43483edb0c"
      },
      "outputs": [
        {
          "name": "stdout",
          "output_type": "stream",
          "text": [
            "Enter a Number :1\n",
            "Enter a Number :2\n",
            "Enter a Number :3\n",
            "Enter a Number :4\n",
            "Enter a Number :5\n",
            "Enter a Number :6\n",
            "Enter a Number :7\n",
            "Enter a Number :8\n",
            "Enter a Number :9\n",
            "Enter a Number :10\n",
            "Enter a Number :0\n",
            "Sum = 55\n",
            "Average = 5.5\n"
          ]
        }
      ],
      "source": [
        "# Write code here\n",
        "#\n",
        "number = int(input(\"Enter a Number :\"))\n",
        "i = 0\n",
        "sum = 0\n",
        "#\n",
        "while number != 0:\n",
        "  sum += number\n",
        "  number = int(input(\"Enter a Number :\"))\n",
        "  i += 1\n",
        "#\n",
        "print('Sum =',sum)\n",
        "print(\"Average =\",sum/i)"
      ]
    },
    {
      "cell_type": "markdown",
      "metadata": {
        "id": "6EhvEMvm4R7s"
      },
      "source": [
        "###`Problem 9`: Write a program which will find all such numbers which are divisible by 7 but are not a multiple of 5, between 2000 and 3200 (both included). The numbers obtained should be printed in a comma-separated sequence on a single line."
      ]
    },
    {
      "cell_type": "code",
      "execution_count": null,
      "metadata": {
        "colab": {
          "base_uri": "https://localhost:8080/"
        },
        "id": "d6RgP1B34T6c",
        "outputId": "0a907d67-2c83-44fd-a9df-4a0cb5a59e93"
      },
      "outputs": [
        {
          "name": "stdout",
          "output_type": "stream",
          "text": [
            "2002,2009,2016,2023,2037,2044,2051,2058,2072,2079,2086,2093,2107,2114,2121,2128,2142,2149,2156,2163,2177,2184,2191,2198,2212,2219,2226,2233,2247,2254,2261,2268,2282,2289,2296,2303,2317,2324,2331,2338,2352,2359,2366,2373,2387,2394,2401,2408,2422,2429,2436,2443,2457,2464,2471,2478,2492,2499,2506,2513,2527,2534,2541,2548,2562,2569,2576,2583,2597,2604,2611,2618,2632,2639,2646,2653,2667,2674,2681,2688,2702,2709,2716,2723,2737,2744,2751,2758,2772,2779,2786,2793,2807,2814,2821,2828,2842,2849,2856,2863,2877,2884,2891,2898,2912,2919,2926,2933,2947,2954,2961,2968,2982,2989,2996,3003,3017,3024,3031,3038,3052,3059,3066,3073,3087,3094,3101,3108,3122,3129,3136,3143,3157,3164,3171,3178,3192,3199,"
          ]
        }
      ],
      "source": [
        "# Write code here\n",
        "for i in range(2000,3201):\n",
        "  if i%7 == 0 and i%5 != 0:\n",
        "    print(i,end=',')"
      ]
    },
    {
      "cell_type": "markdown",
      "metadata": {
        "id": "tYvmRR-G4Vp4"
      },
      "source": [
        "###`Problem 10`: Write a program, which will find all such numbers between 1000 and 3000 (both included) such that each digit of the number is an even number. The numbers obtained should be printed in a space-separated sequence on a single line.\n",
        "\n"
      ]
    },
    {
      "cell_type": "code",
      "execution_count": 5,
      "metadata": {
        "id": "k6Gs1kIf4k19"
      },
      "outputs": [
        {
          "name": "stdout",
          "output_type": "stream",
          "text": [
            "2000-2002-2004-2006-2008-2020-2022-2024-2026-2028-2040-2042-2044-2046-2048-2060-2062-2064-2066-2068-2080-2082-2084-2086-2088-2200-2202-2204-2206-2208-2220-2222-2224-2226-2228-2240-2242-2244-2246-2248-2260-2262-2264-2266-2268-2280-2282-2284-2286-2288-2400-2402-2404-2406-2408-2420-2422-2424-2426-2428-2440-2442-2444-2446-2448-2460-2462-2464-2466-2468-2480-2482-2484-2486-2488-2600-2602-2604-2606-2608-2620-2622-2624-2626-2628-2640-2642-2644-2646-2648-2660-2662-2664-2666-2668-2680-2682-2684-2686-2688-2800-2802-2804-2806-2808-2820-2822-2824-2826-2828-2840-2842-2844-2846-2848-2860-2862-2864-2866-2868-2880-2882-2884-2886-2888-"
          ]
        }
      ],
      "source": [
        "# Write code here\n",
        "# Initializing check variable\n",
        "check = 0\n",
        "# for loop to check and print numbers with even digits\n",
        "for i in range(1000,3001):\n",
        "    even = True\n",
        "    if i%2 == 0:\n",
        "        check = i//10\n",
        "        # while loop to check every single digit \n",
        "        while check>0:\n",
        "            if check % 2 != 0:\n",
        "                even = False\n",
        "                break\n",
        "            else:\n",
        "                check //= 10\n",
        "    else:\n",
        "        even = False\n",
        "    # conditional to check the validity of number for our purpose\n",
        "    if even:\n",
        "        print(i,end='-')"
      ]
    },
    {
      "cell_type": "markdown",
      "metadata": {
        "id": "GV18IINT4mf5"
      },
      "source": [
        "###`Problem 11`: A robot moves in a plane starting from the original point (0,0). The robot can move toward UP, DOWN, LEFT and RIGHT with a given steps.\n",
        "The trace of robot movement is shown as the following:\n",
        "```\n",
        "UP 5\n",
        "DOWN 3\n",
        "LEFT 3\n",
        "RIGHT 2\n",
        "!\n",
        "```\n",
        "> The numbers after the direction are steps.\n",
        "\n",
        "> `!` means robot stop there.\n",
        "\n",
        "**Please write a program to compute the distance from current position after a sequence of movement and original point.**\n",
        "\n",
        "*If the distance is a float, then just print the nearest integer.*\n",
        "\n",
        "Example:\n",
        "\n",
        "`Input`:\n",
        "```\n",
        "UP 5\n",
        "DOWN 3\n",
        "LEFT 3\n",
        "RIGHT 2\n",
        "!\n",
        "```\n",
        "`Output`:\n",
        "```\n",
        "2\n",
        "```"
      ]
    },
    {
      "cell_type": "code",
      "execution_count": null,
      "metadata": {
        "colab": {
          "base_uri": "https://localhost:8080/"
        },
        "id": "6UNMC2aR4w5x",
        "outputId": "acd358da-828c-4291-a238-da7a7b629ef4"
      },
      "outputs": [
        {
          "name": "stdout",
          "output_type": "stream",
          "text": [
            "Enter Direction :up\n",
            "Enter Steps :5\n",
            "Enter Direction :down\n",
            "Enter Steps :3\n",
            "Enter Direction :left\n",
            "Enter Steps :3\n",
            "Enter Direction :right\n",
            "Enter Steps :2\n",
            "Enter Direction :!\n",
            "2.23606797749979\n"
          ]
        }
      ],
      "source": [
        "# Write code here\n",
        "#\n",
        "x = 0\n",
        "y = 0\n",
        "direction = ''\n",
        "#\n",
        "while direction != '!':\n",
        "  direction = input(\"Enter Direction :\")\n",
        "  if direction == '!':\n",
        "    break\n",
        "  steps = int(input(\"Enter Steps :\"))\n",
        "  if direction == 'up':\n",
        "    y += steps\n",
        "  elif direction == 'down':\n",
        "    y -= steps\n",
        "  elif direction == 'right':\n",
        "    x += steps\n",
        "  elif direction == 'left':\n",
        "    x -= steps\n",
        "\n",
        "#\n",
        "distance = ((x**2)+(y**2))**0.5\n",
        "print(distance)"
      ]
    },
    {
      "cell_type": "markdown",
      "metadata": {
        "id": "3fsAIAhK5GYY"
      },
      "source": [
        "###`Problem 12`:Write a program to print whether a given number is a prime number or not"
      ]
    },
    {
      "cell_type": "code",
      "execution_count": null,
      "metadata": {
        "colab": {
          "base_uri": "https://localhost:8080/"
        },
        "id": "j6y91lxy5LZs",
        "outputId": "13dc51b8-d150-46f2-fe59-97df3e92a7b3"
      },
      "outputs": [
        {
          "name": "stdout",
          "output_type": "stream",
          "text": [
            "Enter a Number :19\n",
            "19 is a prime number.\n"
          ]
        }
      ],
      "source": [
        "from pickle import TRUE\n",
        "# Write code here\n",
        "#\n",
        "number = int(input(\"Enter a Number :\"))\n",
        "#\n",
        "pn = True\n",
        "if number > 0:\n",
        "  for i in range(2,number):\n",
        "    if number % i == 0:\n",
        "      print(number,'is not a prime number.')\n",
        "      pn = False\n",
        "      break\n",
        "else:\n",
        "  pn = False\n",
        "  print(number,'is not a prime number.')\n",
        "\n",
        "#\n",
        "if pn:\n",
        "  print(number,'is a prime number.')"
      ]
    },
    {
      "cell_type": "markdown",
      "metadata": {
        "id": "asAbmbK-5NHv"
      },
      "source": [
        "###`Problem 13`:Print all the Armstrong numbers in a given range.\n",
        "Range will be provided by the user<br>\n",
        "Armstrong number is a number that is equal to the sum of cubes of its digits. For example 0, 1, 153, 370, 371 and 407 are the Armstrong numbers."
      ]
    },
    {
      "cell_type": "code",
      "execution_count": null,
      "metadata": {
        "colab": {
          "base_uri": "https://localhost:8080/"
        },
        "id": "PZuI67pm5jCT",
        "outputId": "18c1726c-9340-480d-ca6b-b1e11c1a5018"
      },
      "outputs": [
        {
          "name": "stdout",
          "output_type": "stream",
          "text": [
            "Enter a Number :5\n",
            "5 is not an Armstrong Number.\n"
          ]
        }
      ],
      "source": [
        "# Write code here\n",
        "#\n",
        "number = int(input(\"Enter a Number :\"))\n",
        "#\n",
        "digit = 0\n",
        "sum = 0\n",
        "#\n",
        "number1 = number\n",
        "#\n",
        "while number1 > 0:\n",
        "  digit = number1 % 10\n",
        "  sum += (digit ** 3)\n",
        "  number1 //= 10\n",
        "\n",
        "#\n",
        "if sum == number:\n",
        "  print(number,'is an Armstron Number.')\n",
        "else:\n",
        "  print(number,'is not an Armstrong Number.')"
      ]
    },
    {
      "cell_type": "markdown",
      "metadata": {
        "id": "ClCQZMqT7gK0"
      },
      "source": [
        "###`Problem 14`:Calculate the angle between the hour hand and minute hand.\n",
        "\n",
        "Note: There can be two angles between hands; we need to print a minimum of two. Also, we need to print the floor of the final result angle. For example, if the final angle is 10.61, we need to print 10.\n",
        "\n",
        "Input:<br>\n",
        "H = 9 , M = 0<br>\n",
        "Output:<br>\n",
        "90<br>\n",
        "Explanation:<br>\n",
        "The minimum angle between hour and minute\n",
        "hand when the time is 9 is 90 degress."
      ]
    },
    {
      "cell_type": "code",
      "execution_count": null,
      "metadata": {
        "id": "tNBTCZML7jy_"
      },
      "outputs": [],
      "source": [
        "# Write code here"
      ]
    },
    {
      "cell_type": "markdown",
      "metadata": {
        "id": "GwacF9Co72Qc"
      },
      "source": [
        "###`Problem 15`:Given two rectangles, find if the given two rectangles overlap or not. A rectangle is denoted by providing the x and y coordinates of two points: the left top corner and the right bottom corner of the rectangle. Two rectangles sharing a side are considered overlapping. (L1 and R1 are the extreme points of the first rectangle and L2 and R2 are the extreme points of the second rectangle).\n",
        "\n",
        "Note: It may be assumed that the rectangles are parallel to the coordinate axis.\n",
        "\n",
        "<img src='https://www.geeksforgeeks.org/wp-content/uploads/rectanglesOverlap.png' width='300' height='200'>"
      ]
    },
    {
      "cell_type": "code",
      "execution_count": null,
      "metadata": {
        "id": "6rrw_lpH78Rs"
      },
      "outputs": [],
      "source": [
        "# Write code here"
      ]
    }
  ],
  "metadata": {
    "colab": {
      "provenance": []
    },
    "kernelspec": {
      "display_name": "Python 3",
      "name": "python3"
    },
    "language_info": {
      "codemirror_mode": {
        "name": "ipython",
        "version": 3
      },
      "file_extension": ".py",
      "mimetype": "text/x-python",
      "name": "python",
      "nbconvert_exporter": "python",
      "pygments_lexer": "ipython3",
      "version": "3.11.0"
    }
  },
  "nbformat": 4,
  "nbformat_minor": 0
}
