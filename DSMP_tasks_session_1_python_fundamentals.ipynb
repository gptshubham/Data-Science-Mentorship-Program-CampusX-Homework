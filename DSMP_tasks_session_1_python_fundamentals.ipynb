{
  "nbformat": 4,
  "nbformat_minor": 0,
  "metadata": {
    "colab": {
      "provenance": []
    },
    "kernelspec": {
      "name": "python3",
      "display_name": "Python 3"
    },
    "language_info": {
      "name": "python"
    }
  },
  "cells": [
    {
      "cell_type": "markdown",
      "source": [
        "# Task : Session 1\n",
        "Solve these questions own your own and try to test yourself what you have learned in the session.\n",
        "\n",
        "Happy Learning!"
      ],
      "metadata": {
        "id": "A05OG15VqOPF"
      }
    },
    {
      "cell_type": "markdown",
      "source": [
        "### Q1 :- Print the given strings as per stated format.\n",
        "\n",
        "**Given strings**:\n",
        "```\n",
        "\"Data\" \"Science\" \"Mentorship\" \"Program\"\n",
        "\"By\" \"CampusX\"\n",
        "```\n",
        "**Output**:\n",
        "```\n",
        "Data-Science-Mentorship-Program-started-By-CampusX\n",
        "```\n",
        "\n",
        "Concept- [Seperator and End]"
      ],
      "metadata": {
        "id": "2doIXf8bqe9_"
      }
    },
    {
      "cell_type": "code",
      "source": [
        "# Write your code here\n",
        "print(\"Data\",\"Science\",\"Mentorship\",\"Program\",sep='-',end='-started-')\n",
        "print(\"By\",\"CampusX\",sep='-')"
      ],
      "metadata": {
        "id": "-em6d3KErDtp",
        "colab": {
          "base_uri": "https://localhost:8080/"
        },
        "outputId": "790c152a-572d-4610-c0e9-390322ddba55"
      },
      "execution_count": null,
      "outputs": [
        {
          "output_type": "stream",
          "name": "stdout",
          "text": [
            "Data-Science-Mentorship-Program-started-By-CampusX\n"
          ]
        }
      ]
    },
    {
      "cell_type": "markdown",
      "source": [
        "### Q2:- Write a program that will convert celsius value to fahrenheit."
      ],
      "metadata": {
        "id": "1KUpN7ZTrC3_"
      }
    },
    {
      "cell_type": "code",
      "source": [
        "# Write your code here\n",
        "# taking celsius input from user\n",
        "celsius = float(input('Enter Celsius Value :'))\n",
        "# converting celsius into fahrenheit\n",
        "fahrenheit = (celsius * 9/5) + 32\n",
        "# printing output\n",
        "print(fahrenheit,\"F\")"
      ],
      "metadata": {
        "id": "yxKYhYQiqWfj",
        "colab": {
          "base_uri": "https://localhost:8080/"
        },
        "outputId": "dc47a5ea-5266-4033-c540-e119d36dc755"
      },
      "execution_count": null,
      "outputs": [
        {
          "output_type": "stream",
          "name": "stdout",
          "text": [
            "Enter Celsius Value :37\n",
            "98.6 F\n"
          ]
        }
      ]
    },
    {
      "cell_type": "markdown",
      "source": [
        "### Q3:- Take 2 numbers as input from the user.Write a program to swap the numbers without using any special python syntax."
      ],
      "metadata": {
        "id": "RLrOBBJurLB2"
      }
    },
    {
      "cell_type": "code",
      "source": [
        "# Write your code here\n",
        "# taking input from user\n",
        "firstNumber = int(input(\"Enter First Number :\"))\n",
        "secondNumber = int(input(\"Enter Second Number :\"))\n",
        "# printing original input as provided by user\n",
        "print(firstNumber,secondNumber)\n",
        "# creating extra variable to swap values of firstNumber and secondNumber\n",
        "thirdNumber = firstNumber\n",
        "# swapping values\n",
        "firstNumber = secondNumber\n",
        "secondNumber = thirdNumber\n",
        "# printing swapped outputs\n",
        "print(firstNumber,secondNumber)"
      ],
      "metadata": {
        "id": "yPn7if0TrJ4F",
        "colab": {
          "base_uri": "https://localhost:8080/"
        },
        "outputId": "056ba37c-36be-4838-d81d-01f4158e9b07"
      },
      "execution_count": null,
      "outputs": [
        {
          "output_type": "stream",
          "name": "stdout",
          "text": [
            "Enter First Number :15\n",
            "Enter Second Number :23\n",
            "15 23\n",
            "23 15\n"
          ]
        }
      ]
    },
    {
      "cell_type": "code",
      "source": [
        "# Special Python Syntax\n",
        "a = 5\n",
        "b = 7\n",
        "print(a,b)\n",
        "a,b = b,a\n",
        "print(a,b)"
      ],
      "metadata": {
        "colab": {
          "base_uri": "https://localhost:8080/"
        },
        "id": "rI6aYObgc4uU",
        "outputId": "2c718aa7-9dac-4a9f-855b-f605db34837f"
      },
      "execution_count": null,
      "outputs": [
        {
          "output_type": "stream",
          "name": "stdout",
          "text": [
            "5 7\n",
            "7 5\n"
          ]
        }
      ]
    },
    {
      "cell_type": "markdown",
      "source": [
        "### Q4:- Write a program to find the euclidean distance between two coordinates.Take both the coordinates from the user as input."
      ],
      "metadata": {
        "id": "waLCP1bjr7ML"
      }
    },
    {
      "cell_type": "code",
      "source": [
        "# Write your code here\n",
        "# taking inputs from user\n",
        "x1 = int(input(\"Enter X1 :\"))\n",
        "y1 = int(input(\"Enter Y1 :\"))\n",
        "x2 = int(input(\"Enter X2 :\"))\n",
        "y2 = int(input(\"Enter y2 :\"))\n",
        "# calculating euclidean distance and storing in a variable eucliDistance\n",
        "Distance = (((x1-x2)**2) + ((y1-y2)**2))**0.5\n",
        "# printing eucliDistance as output\n",
        "print('Euclidean Distance =',round(Distance,2))"
      ],
      "metadata": {
        "id": "Pl1Sv-xnrxnH",
        "colab": {
          "base_uri": "https://localhost:8080/"
        },
        "outputId": "6125261a-458e-4bb6-ae2a-1f773389f625"
      },
      "execution_count": null,
      "outputs": [
        {
          "output_type": "stream",
          "name": "stdout",
          "text": [
            "Enter X1 :10\n",
            "Enter Y1 :20\n",
            "Enter X2 :20\n",
            "Enter y2 :40\n",
            "Euclidean Distance = 22.36\n"
          ]
        }
      ]
    },
    {
      "cell_type": "markdown",
      "source": [
        "### Q5:- Write a program to find the simple interest when the value of principle,rate of interest and time period is provided by the user.\n"
      ],
      "metadata": {
        "id": "VLrhg-FRsHjR"
      }
    },
    {
      "cell_type": "code",
      "source": [
        "# Write your code here\n",
        "# taking input from user\n",
        "principal = int(input(\"Enter Principal :\"))\n",
        "rate = float(input(\"Enter Rate of Interest in percentage:\"))\n",
        "years = float(input(\"Enter No. of Years :\"))\n",
        "# calculating simple interest and storing in a variable\n",
        "simpleInterest = (principal * rate * years)/100\n",
        "# printing output\n",
        "print(\"Interest =\",simpleInterest)\n",
        "print(type(simpleInterest))\n",
        "# python implicitly converted the values into float."
      ],
      "metadata": {
        "id": "s40DlReZsTmY",
        "colab": {
          "base_uri": "https://localhost:8080/"
        },
        "outputId": "9e25d441-e7e0-45ed-a9da-49aa65fdf1ab"
      },
      "execution_count": null,
      "outputs": [
        {
          "output_type": "stream",
          "name": "stdout",
          "text": [
            "Enter Principal :100000\n",
            "Enter Rate of Interest in percentage:12\n",
            "Enter No. of Years :5\n",
            "Interest = 60000.0\n",
            "<class 'float'>\n"
          ]
        }
      ]
    },
    {
      "cell_type": "markdown",
      "source": [
        "### Q6:- Write a program that will tell the number of dogs and chicken are there when the user will provide the value of total heads and legs.\n",
        "\n",
        "For example:\n",
        "Input:\n",
        "heads -> 4\n",
        "legs -> 12\n",
        "<br>\n",
        "Output:\n",
        "dogs -> 2\n",
        "chicken -> 2\n",
        "\n",
        "\n",
        "\n"
      ],
      "metadata": {
        "id": "LMy0BTUktYKa"
      }
    },
    {
      "cell_type": "code",
      "source": [
        "# Write your code here\n",
        "# taking input from user\n",
        "no_of_legs = int(input(\"Enter No. of Legs :\"))\n",
        "no_of_heads = int(input(\"Enter No. of Heads :\"))\n",
        "# eqation for calculating no. of dogs(x) and no. of chicken(y)\n",
        "y = ((4*no_of_heads)-no_of_legs)/2\n",
        "x = no_of_heads - y\n",
        "# printing output\n",
        "print(\"No. of dogs =\",x)\n",
        "print(\"No. of Chicken =\",y)"
      ],
      "metadata": {
        "id": "XSBvJoA4tXaG",
        "colab": {
          "base_uri": "https://localhost:8080/"
        },
        "outputId": "1b278f31-13a4-43ff-bc86-0fed8202143e"
      },
      "execution_count": null,
      "outputs": [
        {
          "output_type": "stream",
          "name": "stdout",
          "text": [
            "Enter No. of Legs :20\n",
            "Enter No. of Heads :8\n",
            "No. of dogs = 2.0\n",
            "No. of Chicken = 6.0\n"
          ]
        }
      ]
    },
    {
      "cell_type": "markdown",
      "source": [
        "### Q7:- Write a program to find the sum of squares of first n natural numbers where n will be provided by the user."
      ],
      "metadata": {
        "id": "gJ7C5kZYt4BP"
      }
    },
    {
      "cell_type": "code",
      "source": [
        "# Write your code here\n",
        "# taking input from user\n",
        "n = int(input(\"Enter value of n :\"))\n",
        "# calculation of sum\n",
        "sum = (n*(n+1)*((2*n)+1))/6\n",
        "# printing output\n",
        "print(\"Sum =\",sum)"
      ],
      "metadata": {
        "id": "_tHsmEHzt2nX",
        "colab": {
          "base_uri": "https://localhost:8080/"
        },
        "outputId": "3a16043e-5007-4be6-deb1-237270c8315b"
      },
      "execution_count": null,
      "outputs": [
        {
          "output_type": "stream",
          "name": "stdout",
          "text": [
            "Enter value of n :10\n",
            "Sum = 385.0\n"
          ]
        }
      ]
    },
    {
      "cell_type": "markdown",
      "source": [
        "### Q8:- Given the first 2 terms of an Arithmetic Series.Find the Nth term of the series. Assume all inputs are provided by the user."
      ],
      "metadata": {
        "id": "FHrMM7g-yG1h"
      }
    },
    {
      "cell_type": "code",
      "source": [
        "# Write your code here\n",
        "# taking input from user\n",
        "a = int(input(\"Enter First Term :\"))\n",
        "a1 = int(input(\"Enter Second Term :\"))\n",
        "n = int(input(\"Enter nth term :\"))\n",
        "# calculation of diffrence (d)\n",
        "d = a1 - a\n",
        "# calculation of nth term\n",
        "an = (a + ((n-1)*d))\n",
        "# printing output\n",
        "print(n,\"th term = \",an,sep='')"
      ],
      "metadata": {
        "id": "go4_kmZmyVSx",
        "colab": {
          "base_uri": "https://localhost:8080/"
        },
        "outputId": "8bf0a1ef-9c0c-4ed5-ef8f-bfef3090e312"
      },
      "execution_count": null,
      "outputs": [
        {
          "output_type": "stream",
          "name": "stdout",
          "text": [
            "Enter First Term :3\n",
            "Enter Second Term :6\n",
            "Enter nth term :10\n",
            "10th term = 30\n"
          ]
        }
      ]
    },
    {
      "cell_type": "markdown",
      "source": [
        "### Q9:- Given 2 fractions, find the sum of those 2 fractions.Take the numerator and denominator values of the fractions from the user."
      ],
      "metadata": {
        "id": "QgyRX_es1oum"
      }
    },
    {
      "cell_type": "code",
      "source": [
        "# Write your code here\n",
        "# taking input from user\n",
        "numerator1 = int(input(\"Enter Numerator of 1st Fraction :\"))\n",
        "denominator1 = int(input(\"Enter Denominator of 1st Fraction :\"))\n",
        "numerator2 = int(input(\"Enter Numerator of 2nd Fraction :\"))\n",
        "denominator2 = int(input(\"Enter Denominator of 2nd Fraction :\"))\n",
        "# calculation of sum\n",
        "final_denominator = denominator1 * denominator2\n",
        "final_numerator = (numerator1 * denominator2) + (numerator2 * denominator1)\n",
        "# String Formating\n",
        "sum = '{}/{}'.format(final_numerator,final_denominator)\n",
        "# printing output\n",
        "print(\"sum =\",sum)\n",
        "print(type(sum))"
      ],
      "metadata": {
        "id": "X05xqFS1yW16",
        "colab": {
          "base_uri": "https://localhost:8080/"
        },
        "outputId": "694a7fe7-e686-4023-fefb-5db34f8941a1"
      },
      "execution_count": null,
      "outputs": [
        {
          "output_type": "stream",
          "name": "stdout",
          "text": [
            "Enter Numerator of 1st Fraction :7\n",
            "Enter Denominator of 1st Fraction :8\n",
            "Enter Numerator of 2nd Fraction :2\n",
            "Enter Denominator of 2nd Fraction :3\n",
            "sum = 37/24\n",
            "<class 'str'>\n"
          ]
        }
      ]
    },
    {
      "cell_type": "markdown",
      "source": [
        "### Q10:- Given the height, width and breadth of a milk tank, you have to find out how many glasses of milk can be obtained? Assume all the inputs are provided by the user.\n",
        "\n",
        "\n",
        "\n",
        "Input:<br>\n",
        "Dimensions of the milk tank<br>\n",
        "H = 20cm, L = 20cm, B = 20cm\n",
        "<br><br>\n",
        "Dimensions of the glass<br>\n",
        "h = 3cm, r = 1cm"
      ],
      "metadata": {
        "id": "eaql38ln13u7"
      }
    },
    {
      "cell_type": "code",
      "source": [
        "# Write your code here\n",
        "# taking input from user\n",
        "import math\n",
        "tank_height = int(input(\"Enter the hieght of tank :\"))\n",
        "tank_length = int(input(\"Enter the length of tank :\"))\n",
        "tank_breadth = int(input(\"Enter the breadth of tank :\"))\n",
        "glass_height = int(input(\"Enter the height of glass :\"))\n",
        "glass_radius = int(input(\"Enter the glass radius :\"))\n",
        "# calculation of volume of tank and glass\n",
        "tank_volume = tank_height * tank_length * tank_breadth\n",
        "glass_volume = (22/7) * (glass_radius**2) * glass_height\n",
        "# calculation of no. of glass of milk obtained\n",
        "no_of_glass = tank_volume / glass_volume\n",
        "# printing output\n",
        "print(math.floor(no_of_glass))"
      ],
      "metadata": {
        "id": "FePZqno74eWv",
        "colab": {
          "base_uri": "https://localhost:8080/"
        },
        "outputId": "e9b5e026-c325-4bfa-85e5-b9efb2063bab"
      },
      "execution_count": null,
      "outputs": [
        {
          "output_type": "stream",
          "name": "stdout",
          "text": [
            "Enter the hieght of tank :20\n",
            "Enter the length of tank :20\n",
            "Enter the breadth of tank :20\n",
            "Enter the height of glass :3\n",
            "Enter the glass radius :1\n",
            "848\n"
          ]
        }
      ]
    }
  ]
}